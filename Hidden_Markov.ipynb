{
 "cells": [
  {
   "cell_type": "code",
   "execution_count": 11,
   "id": "3b156621",
   "metadata": {},
   "outputs": [],
   "source": [
    "import pandas as pd\n",
    "import yfinance as yf\n",
    "import numpy as np\n",
    "from datetime import date\n",
    "from pandas_datareader.data import DataReader\n",
    "\n",
    "from hmmlearn.hmm import GaussianHMM"
   ]
  },
  {
   "cell_type": "code",
   "execution_count": 9,
   "id": "41e5d915",
   "metadata": {},
   "outputs": [],
   "source": [
    "start = date(1993, 2, 8)\n",
    "spy = DataReader('SPY', 'yahoo', start=start)"
   ]
  },
  {
   "cell_type": "code",
   "execution_count": 7,
   "id": "d19bcb2a",
   "metadata": {},
   "outputs": [],
   "source": [
    "spy_ret = spy\n",
    "spy_ret = spy_ret.reset_index()\n",
    "spy_ret[\"Returns\"] = spy_ret['Adj Close'].pct_change()\n",
    "spy_ret.dropna(inplace=True)\n",
    "spy_ret.to_csv('spy_ret.csv')"
   ]
  },
  {
   "cell_type": "code",
   "execution_count": null,
   "id": "6c1e0892",
   "metadata": {},
   "outputs": [],
   "source": [
    "if __name__==\"__main__\":\n",
    "    #Hides deprecation warnings for sklearn\n",
    "    warnings.filterwarnings(\"ignore\")\n",
    "    \n",
    "    #Create the SPY dataframe from the Yahoo Finance CSV\n",
    "    # and correctly format the returns for use in the HMM\n",
    "    csv_filepath = \"..SPY.csv\"\n",
    "    pickle_path = \"../Users/bng19/Documents/nss_projects/Bayes_will_conquer_all\"\n",
    "    end_date = datetime.datetime(2005, 12, 31)\n",
    "    spy = obtain_prices_df(csv_filepath, end_date)\n",
    "    rets = np.column_stack([spy[\"Returns\"]])\n",
    "    \n",
    "    #create the Gaussian Hidden markov Model and fit it\n",
    "    #to the SPY returns, dta, outputting a score\n",
    "    hmm_model = GaussianHMM(\n",
    "        n_components=2, \n",
    "        covariance_type = \"full\",\n",
    "        n_iter=1000\n",
    "    ).fit(rets)\n",
    "    print(\"Model Score:\", hmm_model.score(rets))\n",
    "    \n",
    "    #Plot the in sample hidden states closing values\n",
    "    plot_in_sample_hidden_states(hmm_model, spy)\n",
    "    \n",
    "    print(\"Pickling HMM model...\")\n",
    "    pickle.dump(hmm_model, open(pickle_path, \"wb\"))\n",
    "    print(\"...HMM model pickled\")"
   ]
  },
  {
   "cell_type": "code",
   "execution_count": 11,
   "id": "68579c3d",
   "metadata": {},
   "outputs": [],
   "source": [
    "#borrow from advanced algo trading to plot in sample hidden states\n",
    "def plot_in_sample_hidden_states(hmm_model, df):\n",
    "    '''\n",
    "    Plot the adjusted closing prcies masked by \n",
    "    the in-sample hidden states as a mechanism \n",
    "    to understand the market regimes.\n",
    "    '''\n",
    "    #Predict the hidden sstates array\n",
    "    hidden_states = hmm_model.predict(rets)\n",
    "    # Create the correctly formatted plot\n",
    "    fig, axs = plt.subplots(\n",
    "    hmm_nodel.n_components,\n",
    "    sharex=True, sharey=True\n",
    "    )\n",
    "    colors = cm.rainbow(\n",
    "    np.linspace(0, 1, hmm_model.n_components)\n",
    "    )\n",
    "    for i, (ax, color)in enumerate(zip(axs, colors)):\n",
    "        mask = hidden_states == i\n",
    "        ax.plot_date(\n",
    "            spy_ret.index[mask],\n",
    "            spy_ret['Adj Close'][mask],\n",
    "            \".\", linstyle='none',\n",
    "            c=color\n",
    "        )\n",
    "        ax.set_title(\"Hiddden State #%s\" % i)\n",
    "        ax.xaxis.set_major_locator(YearLocator())\n",
    "        ax.xaxis.set_minor_locator(MonthLocator())\n",
    "        ax.grid(True)\n",
    "    plt.show()\n",
    "    \n"
   ]
  },
  {
   "cell_type": "code",
   "execution_count": null,
   "id": "7449ab20",
   "metadata": {},
   "outputs": [],
   "source": []
  }
 ],
 "metadata": {
  "kernelspec": {
   "display_name": "Python 3 (ipykernel)",
   "language": "python",
   "name": "python3"
  },
  "language_info": {
   "codemirror_mode": {
    "name": "ipython",
    "version": 3
   },
   "file_extension": ".py",
   "mimetype": "text/x-python",
   "name": "python",
   "nbconvert_exporter": "python",
   "pygments_lexer": "ipython3",
   "version": "3.8.13"
  }
 },
 "nbformat": 4,
 "nbformat_minor": 5
}
